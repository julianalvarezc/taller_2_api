{
 "cells": [
  {
   "cell_type": "code",
   "execution_count": 8,
   "id": "c97b250f",
   "metadata": {},
   "outputs": [
    {
     "name": "stdout",
     "output_type": "stream",
     "text": [
      "                  País         Capital    Región  Población  Área (km²)\n",
      "0                 Peru            Lima  Americas   32971846   1285216.0\n",
      "1              Bolivia           Sucre  Americas   11673029   1098581.0\n",
      "2            Venezuela         Caracas  Americas   28435943    916445.0\n",
      "3             Colombia          Bogotá  Americas   50882884   1141748.0\n",
      "4               Panama     Panama City  Americas    4314768     75417.0\n",
      "5              Uruguay      Montevideo  Americas    3473727    181034.0\n",
      "6               Mexico     Mexico City  Americas  128932753   1964375.0\n",
      "7                 Guam         Hagåtña   Oceania     168783       549.0\n",
      "8            Argentina    Buenos Aires  Americas   45376763   2780400.0\n",
      "9          El Salvador    San Salvador  Americas    6486201     21041.0\n",
      "10              Belize        Belmopan  Americas     397621     22966.0\n",
      "11      Western Sahara        El Aaiún    Africa     510713    266000.0\n",
      "12             Ecuador           Quito  Americas   17643060    276841.0\n",
      "13                Cuba          Havana  Americas   11326616    109884.0\n",
      "14         Puerto Rico        San Juan  Americas    3194034      8870.0\n",
      "15   Equatorial Guinea          Malabo    Africa    1402985     28051.0\n",
      "16            Paraguay        Asunción  Americas    7132530    406752.0\n",
      "17               Chile        Santiago  Americas   19116209    756102.0\n",
      "18            Honduras     Tegucigalpa  Americas    9904608    112492.0\n",
      "19           Nicaragua         Managua  Americas    6624554    130373.0\n",
      "20  Dominican Republic   Santo Domingo  Americas   10847904     48671.0\n",
      "21          Costa Rica        San José  Americas    5094114     51100.0\n",
      "22           Guatemala  Guatemala City  Americas   16858333    108889.0\n",
      "23               Spain          Madrid    Europe   47351567    505992.0\n"
     ]
    }
   ],
   "source": [
    "import requests\n",
    "import pandas as pd\n",
    "\n",
    "# 1. Obtener datos desde la API\n",
    "url = \"https://restcountries.com/v3.1/lang/spanish\"\n",
    "response = requests.get(url)\n",
    "data = response.json()\n",
    "\n",
    "# 2. Extraer campos relevantes para la tabla\n",
    "# Por ejemplo: nombre del país, capital, región, población\n",
    "rows = []\n",
    "for country in data:\n",
    "    name = country.get('name', {}).get('common', 'N/A')\n",
    "    capital = country.get('capital', ['N/A'])[0]  # lista, tomamos el primero\n",
    "    region = country.get('region', 'N/A')\n",
    "    population = country.get('population', 'N/A')\n",
    "    area = country.get('area', 'N/A')\n",
    "    \n",
    "    rows.append({\n",
    "        'País': name,\n",
    "        'Capital': capital,\n",
    "        'Región': region,\n",
    "        'Población': population,\n",
    "        'Área (km²)': area\n",
    "    })\n",
    "\n",
    "# 3. Crear y mostrar tabla con pandas\n",
    "df = pd.DataFrame(rows)\n",
    "print(df)\n"
   ]
  }
 ],
 "metadata": {
  "kernelspec": {
   "display_name": "Python 3",
   "language": "python",
   "name": "python3"
  },
  "language_info": {
   "codemirror_mode": {
    "name": "ipython",
    "version": 3
   },
   "file_extension": ".py",
   "mimetype": "text/x-python",
   "name": "python",
   "nbconvert_exporter": "python",
   "pygments_lexer": "ipython3",
   "version": "3.13.3"
  }
 },
 "nbformat": 4,
 "nbformat_minor": 5
}
